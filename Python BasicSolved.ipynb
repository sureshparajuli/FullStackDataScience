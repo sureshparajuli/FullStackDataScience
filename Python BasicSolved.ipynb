{
 "cells": [
  {
   "cell_type": "code",
   "execution_count": null,
   "id": "dd30a015-e245-479b-8ff9-901af0b723ed",
   "metadata": {},
   "outputs": [],
   "source": [
    "\"\"\" 1. Declare two variables, `x` and `y`, and assign them integer values. Swap the\n",
    "values of these variables without using any temporary variable. \"\"\"\n",
    "\n",
    "#Assign values to variables\n",
    "\n",
    "x = 5\n",
    "y = 10  \n",
    "\n",
    "#Swapping two values\n",
    "x, y = y, x\n",
    "\n",
    "#printing the values\n",
    "\n",
    "print( \"Value of x: \", x)\n",
    "print( \"Value of y: \", y)"
   ]
  },
  {
   "cell_type": "code",
   "execution_count": null,
   "id": "c565a9ad-3e07-42aa-8180-485b353c8d70",
   "metadata": {},
   "outputs": [],
   "source": [
    " "
   ]
  },
  {
   "cell_type": "code",
   "execution_count": null,
   "id": "2c1edd28-56f0-4a23-b85d-50d85ebd08e3",
   "metadata": {},
   "outputs": [],
   "source": [
    "\"\"\" 2. Create a program that calculates the area of a rectangle. Take the length and\n",
    "width as inputs from the user and store them in variables. Calculate and\n",
    "display the area. \"\"\"\n",
    "\n",
    "\n",
    "print (\"Enter Length of Rectangle:  \")\n",
    "length = float(input())\n",
    "\n",
    "print (\"Enter Width of Rectangle:  \")\n",
    "width = float(input())\n",
    "\n",
    "# Area of Rectangle\n",
    "\n",
    "a = length * width\n",
    "\n",
    "print(\" Area of Rectangle is: \",a)"
   ]
  },
  {
   "cell_type": "code",
   "execution_count": null,
   "id": "6e5c2da4-fe62-4a9e-9eac-893a50ac4870",
   "metadata": {},
   "outputs": [],
   "source": [
    "\"\"\" 3 Write a Python program that converts temperatures from Celsius to\n",
    "Fahrenheit. Take the temperature in Celsius as input, store it in a variable,\n",
    "convert it to Fahrenheit, and display the result. \"\"\"\n",
    "\n",
    "celsius =int(input(\"Enter the Temperature in Celsius\"))\n",
    "fahrenheit = (1.8 * celsius) + 32\n",
    "print (\"Temperature in Fahrenheit:\", fahrenheit)"
   ]
  },
  {
   "cell_type": "markdown",
   "id": "b2e4d1ab-0ab0-4b70-af9e-d67e4dabeb86",
   "metadata": {},
   "source": [
    "# Topic: String Based Questions"
   ]
  },
  {
   "cell_type": "code",
   "execution_count": null,
   "id": "75946082-6e1c-4b2f-9a1a-59594ee95df3",
   "metadata": {},
   "outputs": [],
   "source": [
    "\"\"\" 1. Write a Python program that takes a string as input and prints the length of\n",
    "the string.\"\"\"\n",
    "\n",
    "# Taking input from the user\n",
    "input_string = input(\"Enter a string, please: \")\n",
    "\n",
    "# Printing the length of string\n",
    "string_length = len(input_string)\n",
    "print( \"Length of the String is: \", string_length\n"
   ]
  },
  {
   "cell_type": "code",
   "execution_count": 2,
   "id": "8b82650e-c911-4d8e-b6fc-0d87af38c555",
   "metadata": {},
   "outputs": [
    {
     "name": "stdin",
     "output_type": "stream",
     "text": [
      "Enter the sentence aeiou\n"
     ]
    },
    {
     "name": "stdout",
     "output_type": "stream",
     "text": [
      "aeiou\n",
      "a\n",
      "e\n",
      "i\n",
      "o\n",
      "u\n",
      "number vowels in given sentence is: 5\n"
     ]
    }
   ],
   "source": [
    "\"\"\" 2. Create a program that takes a sentence from the user and counts the number\n",
    "of vowels (a, e, i, o, u) in the string. \"\"\"\n",
    "\n",
    "def vowel_count():\n",
    "    sentence = input(\"Enter the sentence\") # sentences given by user\n",
    "    str_sentence = sentence.casefold() # change into lowercuse\n",
    "    print(str_sentence)\n",
    "# Initializing count variable to 0\n",
    "    count = 0\n",
    "# Print the character and count the vowel characters\n",
    "    set1=(\"a\", \"e\", \"i\",\"o\",\"u\")\n",
    "    for char in str_sentence:\n",
    "        if char in set1:\n",
    "            print(char)\n",
    "            count=count+1\n",
    "    print(\"number vowels in given sentence is:\",count)\n",
    "    \n",
    " # Calling the function   \n",
    "vowel_count()"
   ]
  },
  {
   "cell_type": "code",
   "execution_count": 5,
   "id": "20416824-f18f-4cd8-99cd-7f7c0132d31b",
   "metadata": {},
   "outputs": [
    {
     "name": "stdin",
     "output_type": "stream",
     "text": [
      "Write the sentences:  i love you.\n"
     ]
    },
    {
     "name": "stdout",
     "output_type": "stream",
     "text": [
      ".uoy evol i\n"
     ]
    }
   ],
   "source": [
    "\"\"\"Given a string, reverse the order of characters using string slicing and print\n",
    "the reversed string.\"\"\"\n",
    "\n",
    "def reverse_str():\n",
    "    sentences = input(\"Write the sentences: \") # taking the input\n",
    "    reverse_sentences = sentences[ : :-1] # Reverse the characters\n",
    "    print(reverse_sentences) # print the reversed characters\n",
    "# Calling the function\n",
    "reverse_str()"
   ]
  },
  {
   "cell_type": "code",
   "execution_count": 7,
   "id": "6c56e59e-c9b2-4ebc-a6d8-abd5531eea94",
   "metadata": {},
   "outputs": [
    {
     "name": "stdin",
     "output_type": "stream",
     "text": [
      "Write the sentence:  abccba\n"
     ]
    },
    {
     "name": "stdout",
     "output_type": "stream",
     "text": [
      "abccba\n",
      "is Palindrome\n"
     ]
    }
   ],
   "source": [
    " \"\"\"4. Write a program that takes a string as input and checks if it is a palindrome\n",
    "(reads the same forwards and backwards).\"\"\"\n",
    "    \n",
    "def isPalindrome():\n",
    "    sentence = input(\"Write the sentence: \") # Taking input \n",
    "    palindrome_sentence = sentence[ : :-1] # Reverse the characters\n",
    "    print(palindrome_sentence) \n",
    "    # Checking the if the character is Palindrome or not\n",
    "    if palindrome_sentence == sentence:\n",
    "        print(\"is Palindrome\")\n",
    "    else:\n",
    "        print ( \" Not Palindrome\")\n",
    "# Calling the function\n",
    "isPalindrome()"
   ]
  },
  {
   "cell_type": "code",
   "execution_count": null,
   "id": "73f50962-a8e7-4be1-ba4f-b88a23a3e2d0",
   "metadata": {},
   "outputs": [],
   "source": [
    "\"\"\" 5. Create a program that takes a string as input and removes all the spaces from\n",
    "it. Print the modified string without spaces.\"\"\"\n",
    "\n",
    "def removeSpace():\n",
    "    sentence = input(Write the sentence: \") # Taking the input\n",
    "    removed_space = sentence.replace(\" \", \"\") # removing the space\n",
    "    return removed_space\n",
    "\n",
    " # Calling the function                    \n",
    "nospace = removeSpace()\n",
    "    "
   ]
  }
 ],
 "metadata": {
  "kernelspec": {
   "display_name": "Python 3 (ipykernel)",
   "language": "python",
   "name": "python3"
  },
  "language_info": {
   "codemirror_mode": {
    "name": "ipython",
    "version": 3
   },
   "file_extension": ".py",
   "mimetype": "text/x-python",
   "name": "python",
   "nbconvert_exporter": "python",
   "pygments_lexer": "ipython3",
   "version": "3.10.8"
  }
 },
 "nbformat": 4,
 "nbformat_minor": 5
}
